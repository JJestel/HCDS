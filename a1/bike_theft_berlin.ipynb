{
 "cells": [
  {
   "cell_type": "code",
   "execution_count": null,
   "metadata": {},
   "outputs": [],
   "source": [
    "import requests\n",
    "from urllib.request import urlopen\n",
    "from io import StringIO\n",
    "import pandas as pd\n",
    "import numpy as np\n",
    "\n",
    "import matplotlib.pyplot as plt\n",
    "import seaborn as sns\n",
    "import plotly.express as px\n",
    "\n",
    "from pyproj import CRS, Transformer\n",
    "import json"
   ]
  },
  {
   "attachments": {},
   "cell_type": "markdown",
   "metadata": {},
   "source": [
    "# Data Collection"
   ]
  },
  {
   "cell_type": "code",
   "execution_count": null,
   "metadata": {},
   "outputs": [],
   "source": [
    "# fetch data set\n",
    "req = requests.get(\n",
    "    \"https://www.internetwache-polizei-berlin.de/vdb/Fahrraddiebstahl.csv\"\n",
    ")\n",
    "\n",
    "# # write data to csv file\n",
    "# csv_file = open(\"fahrraddiebstaehle.csv\", \"w\", encoding=\"utf-8\")\n",
    "# csv_file.write(req.text)\n",
    "# csv_file.close()\n",
    "\n",
    "# load data to pandas df\n",
    "df = pd.read_csv(StringIO(req.text), delimiter=\",\", dtype={\"LOR\": object})\n"
   ]
  },
  {
   "cell_type": "code",
   "execution_count": null,
   "metadata": {},
   "outputs": [],
   "source": [
    "response = urlopen(\"https://raw.githubusercontent.com/JJestel/HCDS/main/a1/data/lor.csv\")\n",
    "lor = pd.read_csv(response, delimiter=\";\", dtype=object)\n",
    "\n",
    "response = urlopen(\"https://raw.githubusercontent.com/JJestel/HCDS/main/a1/data/einwohnerbestand_06-2022_plr.csv\")\n",
    "ew = pd.read_csv(response, delimiter=\";\", dtype={\"PLR-ID\": object})"
   ]
  },
  {
   "cell_type": "code",
   "execution_count": null,
   "metadata": {},
   "outputs": [],
   "source": [
    "r = requests.get(\"https://tsb-opendata.s3.eu-central-1.amazonaws.com/lor_planungsgraeume_2021/lor_planungsraeume_2021.geojson\")\n",
    "geojson = json.loads(r.content)"
   ]
  },
  {
   "attachments": {},
   "cell_type": "markdown",
   "metadata": {},
   "source": [
    "# Data Processing"
   ]
  },
  {
   "cell_type": "code",
   "execution_count": null,
   "metadata": {},
   "outputs": [],
   "source": [
    "df['TATZEIT_ANFANG'] = pd.to_datetime(df['TATZEIT_ANFANG_DATUM'].astype(str) + ' ' + df['TATZEIT_ANFANG_STUNDE'].astype(str) + ':00:00', dayfirst=True)\n",
    "df['TATZEIT_ENDE'] = pd.to_datetime(df['TATZEIT_ENDE_DATUM'].astype(str) + ' ' + df['TATZEIT_ENDE_STUNDE'].astype(str) + ':00:00', dayfirst=True)\n",
    "df = df.drop(columns=['TATZEIT_ANFANG_DATUM', 'TATZEIT_ANFANG_STUNDE', 'TATZEIT_ENDE_DATUM', 'TATZEIT_ENDE_STUNDE'])\n",
    "df['ANGELEGT_AM'] = pd.to_datetime(df['ANGELEGT_AM'], dayfirst=True)\n",
    "df"
   ]
  },
  {
   "cell_type": "code",
   "execution_count": null,
   "metadata": {},
   "outputs": [],
   "source": [
    "lor = lor.merge(ew, left_on='Planungsraum (Nummer)', right_on='PLR-ID')\n",
    "lor = lor.drop(columns= ['techn. Schlüssel (UUID)', 'Stand der Daten', 'ausländer', 'PLR-ID', 'weiblich'])\n",
    "lor[\"Fläche in qm\"] = lor[\"Fläche in qm\"].str.replace(\",\", \".\").astype(float)\n",
    "int_cols = ['Gesamt', 'unter6', '6-15', '15-18', '18-27', '27-45','45-55', '55-65', '65undmehr']\n",
    "lor[int_cols] = lor[int_cols].replace('–', -1).astype(int)"
   ]
  },
  {
   "cell_type": "code",
   "execution_count": null,
   "metadata": {},
   "outputs": [],
   "source": [
    "# transform coordinate reference system\n",
    "transformer = Transformer.from_crs(25833, 4326)\n",
    "\n",
    "geojson['crs']['properties']['name'] = \"urn:ogc:def:crs:EPSG::4326\"\n",
    "\n",
    "for i in range(len(geojson['features'])):\n",
    "    for j, el in enumerate(geojson['features'][i]['geometry']['coordinates'][0][0]):\n",
    "        x, y = transformer.transform(*el)\n",
    "        geojson['features'][i]['geometry']['coordinates'][0][0][j][0] = y\n",
    "        geojson['features'][i]['geometry']['coordinates'][0][0][j][1] = x\n"
   ]
  },
  {
   "attachments": {},
   "cell_type": "markdown",
   "metadata": {},
   "source": [
    "# Data Analysis"
   ]
  },
  {
   "attachments": {},
   "cell_type": "markdown",
   "metadata": {},
   "source": [
    "### Where are the most bikes stolen?\n"
   ]
  },
  {
   "cell_type": "code",
   "execution_count": null,
   "metadata": {},
   "outputs": [],
   "source": [
    "# aggregate thefts per Planungsraum\n",
    "temp = df.groupby(by=\"LOR\").size().to_frame().rename(columns={0: \"Diebstaehle\"})\n",
    "lor = lor.merge(temp, left_on=\"Planungsraum (Nummer)\", right_index=True, how=\"left\")\n",
    "lor['Diebstaehle'] = lor['Diebstaehle'].fillna(0).astype(int)\n",
    "lor.sort_values(by='Diebstaehle', ascending=False).head(10)"
   ]
  },
  {
   "cell_type": "code",
   "execution_count": null,
   "metadata": {},
   "outputs": [],
   "source": [
    "bins = [0, *[np.quantile(lor.Diebstaehle, x) for x in [0.2, 0.4, 0.6, 0.8, 0.95]], np.max(lor.Diebstaehle)+1]\n",
    "lor['cat'] = pd.cut(lor.Diebstaehle, bins, right=False)\n",
    "colors = ['#fee5d9','#fcbba1','#fc9272','#fb6a4a','#de2d26','#a50f15']\n",
    "\n",
    "fig = px.choropleth(\n",
    "    lor.sort_values(by='Diebstaehle'),\n",
    "    geojson=geojson,\n",
    "    color=\"cat\",\n",
    "    color_discrete_sequence=colors,\n",
    "    locations=\"Planungsraum (Nummer)\",\n",
    "    featureidkey=\"properties.PLR_ID\",\n",
    "    projection=\"mercator\",\n",
    "    hover_data={\"Planungsraum (Name)\":True, \"Diebstaehle\":True, \"Planungsraum (Nummer)\":False},\n",
    "    width=800,\n",
    "    height=600\n",
    ")\n",
    "fig.update_geos(fitbounds=\"locations\", visible=False)\n",
    "fig.update_layout(margin={\"r\": 0, \"t\": 0, \"l\": 0, \"b\": 0})\n",
    "fig.show()\n"
   ]
  },
  {
   "attachments": {},
   "cell_type": "markdown",
   "metadata": {},
   "source": [
    "### Total damage amount?"
   ]
  },
  {
   "cell_type": "code",
   "execution_count": null,
   "metadata": {},
   "outputs": [],
   "source": [
    "sns.histplot(df['SCHADENSHOEHE'], kde=True)"
   ]
  },
  {
   "cell_type": "code",
   "execution_count": null,
   "metadata": {},
   "outputs": [],
   "source": [
    "df['SCHADENSHOEHE'].sum()"
   ]
  },
  {
   "attachments": {},
   "cell_type": "markdown",
   "metadata": {},
   "source": [
    "### What time of the year? / Seasonal trends?"
   ]
  },
  {
   "cell_type": "code",
   "execution_count": null,
   "metadata": {},
   "outputs": [],
   "source": [
    "df_22 = df[df['TATZEIT_ENDE'].dt.year == 2022]"
   ]
  },
  {
   "cell_type": "code",
   "execution_count": null,
   "metadata": {},
   "outputs": [],
   "source": [
    "count_per_kw = (\n",
    "    df.groupby(by=df_22[\"TATZEIT_ANFANG\"].dt.isocalendar().week)\n",
    "    .size()\n",
    "    .to_frame()\n",
    "    .rename(columns={0: \"Diebstaehle\"})\n",
    ")\n",
    "\n",
    "count_per_kw.index = count_per_kw.index.astype(int)\n",
    "sns.lineplot(count_per_kw)\n"
   ]
  },
  {
   "attachments": {},
   "cell_type": "markdown",
   "metadata": {},
   "source": [
    "### What daytime?"
   ]
  },
  {
   "cell_type": "code",
   "execution_count": null,
   "metadata": {},
   "outputs": [],
   "source": [
    "g = sns.histplot((df[\"TATZEIT_ENDE\"] - df[\"TATZEIT_ANFANG\"]) / pd.Timedelta(\"1 hour\"))\n",
    "g.set_xlabel(\"TATZEIT_ENDE - TATZEIT_ANFANG in Stunden\")\n"
   ]
  },
  {
   "cell_type": "code",
   "execution_count": null,
   "metadata": {},
   "outputs": [],
   "source": [
    "count_per_hour = (\n",
    "    df.groupby(by=df_22[\"TATZEIT_ANFANG\"].dt.hour)\n",
    "    .size()\n",
    "    .to_frame()\n",
    "    .rename(columns={0: \"Diebstaehle\"})\n",
    ")\n",
    "\n",
    "count_per_hour.index = count_per_hour.index.astype(int)\n",
    "sns.lineplot(count_per_hour)\n"
   ]
  },
  {
   "cell_type": "code",
   "execution_count": null,
   "metadata": {},
   "outputs": [],
   "source": [
    "count_per_hour = (\n",
    "    df.groupby(by=df_22[\"TATZEIT_ENDE\"].dt.hour)\n",
    "    .size()\n",
    "    .to_frame()\n",
    "    .rename(columns={0: \"Diebstaehle\"})\n",
    ")\n",
    "\n",
    "count_per_hour.index = count_per_hour.index.astype(int)\n",
    "sns.lineplot(count_per_hour)\n"
   ]
  }
 ],
 "metadata": {
  "kernelspec": {
   "display_name": "tf-2.10",
   "language": "python",
   "name": "python3"
  },
  "language_info": {
   "codemirror_mode": {
    "name": "ipython",
    "version": 3
   },
   "file_extension": ".py",
   "mimetype": "text/x-python",
   "name": "python",
   "nbconvert_exporter": "python",
   "pygments_lexer": "ipython3",
   "version": "3.9.16"
  },
  "orig_nbformat": 4
 },
 "nbformat": 4,
 "nbformat_minor": 2
}
