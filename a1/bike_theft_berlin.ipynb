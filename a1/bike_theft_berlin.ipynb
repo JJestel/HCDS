{
 "cells": [
  {
   "cell_type": "code",
   "execution_count": 31,
   "metadata": {},
   "outputs": [],
   "source": [
    "import requests\n",
    "from urllib.request import urlopen\n",
    "from io import StringIO\n",
    "import pandas as pd\n",
    "import numpy as np\n",
    "\n",
    "import matplotlib.pyplot as plt\n",
    "import seaborn as sns\n",
    "import plotly.express as px\n",
    "\n",
    "from pyproj import CRS, Transformer\n",
    "import json"
   ]
  },
  {
   "attachments": {},
   "cell_type": "markdown",
   "metadata": {},
   "source": [
    "# Data Collection"
   ]
  },
  {
   "cell_type": "code",
   "execution_count": 32,
   "metadata": {},
   "outputs": [],
   "source": [
    "# fetch data set\n",
    "req = requests.get(\n",
    "    \"https://www.internetwache-polizei-berlin.de/vdb/Fahrraddiebstahl.csv\"\n",
    ")\n",
    "\n",
    "# # write data to csv file\n",
    "# csv_file = open(\"fahrraddiebstaehle.csv\", \"w\", encoding=\"utf-8\")\n",
    "# csv_file.write(req.text)\n",
    "# csv_file.close()\n",
    "\n",
    "# load data to pandas df\n",
    "df = pd.read_csv(StringIO(req.text), delimiter=\",\", dtype={\"LOR\": object})\n"
   ]
  },
  {
   "cell_type": "code",
   "execution_count": 33,
   "metadata": {},
   "outputs": [],
   "source": [
    "response = urlopen(\"https://raw.githubusercontent.com/JJestel/HCDS/main/a1/data/lor.csv?token=GHSAT0AAAAAACB3GOVE4JPZ6IE5DCEGW7BMZCUEGLA\")\n",
    "lor = pd.read_csv(response, delimiter=\";\", dtype=object)\n",
    "\n",
    "response = urlopen(\"https://raw.githubusercontent.com/JJestel/HCDS/main/a1/data/einwohnerbestand_06-2022_plr.csv?token=GHSAT0AAAAAACB3GOVEFMB4BV25IN52VIUGZCUD6QA\")\n",
    "ew = pd.read_csv(response, delimiter=\";\", dtype={\"PLR-ID\": object})"
   ]
  },
  {
   "cell_type": "code",
   "execution_count": 34,
   "metadata": {},
   "outputs": [],
   "source": [
    "r = requests.get(\"https://tsb-opendata.s3.eu-central-1.amazonaws.com/lor_planungsgraeume_2021/lor_planungsraeume_2021.geojson\")\n",
    "geojson = json.loads(r.content)"
   ]
  },
  {
   "attachments": {},
   "cell_type": "markdown",
   "metadata": {},
   "source": [
    "# Data Processing"
   ]
  },
  {
   "cell_type": "code",
   "execution_count": 35,
   "metadata": {},
   "outputs": [
    {
     "data": {
      "text/html": [
       "<div>\n",
       "<style scoped>\n",
       "    .dataframe tbody tr th:only-of-type {\n",
       "        vertical-align: middle;\n",
       "    }\n",
       "\n",
       "    .dataframe tbody tr th {\n",
       "        vertical-align: top;\n",
       "    }\n",
       "\n",
       "    .dataframe thead th {\n",
       "        text-align: right;\n",
       "    }\n",
       "</style>\n",
       "<table border=\"1\" class=\"dataframe\">\n",
       "  <thead>\n",
       "    <tr style=\"text-align: right;\">\n",
       "      <th></th>\n",
       "      <th>ANGELEGT_AM</th>\n",
       "      <th>LOR</th>\n",
       "      <th>SCHADENSHOEHE</th>\n",
       "      <th>VERSUCH</th>\n",
       "      <th>ART_DES_FAHRRADS</th>\n",
       "      <th>DELIKT</th>\n",
       "      <th>ERFASSUNGSGRUND</th>\n",
       "      <th>TATZEIT_ANFANG</th>\n",
       "      <th>TATZEIT_ENDE</th>\n",
       "    </tr>\n",
       "  </thead>\n",
       "  <tbody>\n",
       "    <tr>\n",
       "      <th>0</th>\n",
       "      <td>2023-05-03</td>\n",
       "      <td>01300836</td>\n",
       "      <td>600</td>\n",
       "      <td>Nein</td>\n",
       "      <td>Fahrrad</td>\n",
       "      <td>Fahrraddiebstahl</td>\n",
       "      <td>Sonstiger schwerer Diebstahl von Fahrrädern</td>\n",
       "      <td>2023-05-02 20:00:00</td>\n",
       "      <td>2023-05-02 20:00:00</td>\n",
       "    </tr>\n",
       "    <tr>\n",
       "      <th>1</th>\n",
       "      <td>2023-05-03</td>\n",
       "      <td>04501040</td>\n",
       "      <td>1750</td>\n",
       "      <td>Nein</td>\n",
       "      <td>Herrenfahrrad</td>\n",
       "      <td>Fahrraddiebstahl</td>\n",
       "      <td>Sonstiger schwerer Diebstahl von Fahrrädern</td>\n",
       "      <td>2023-04-27 23:00:00</td>\n",
       "      <td>2023-04-28 09:00:00</td>\n",
       "    </tr>\n",
       "    <tr>\n",
       "      <th>2</th>\n",
       "      <td>2023-05-03</td>\n",
       "      <td>04400832</td>\n",
       "      <td>849</td>\n",
       "      <td>Nein</td>\n",
       "      <td>Herrenfahrrad</td>\n",
       "      <td>Fahrraddiebstahl</td>\n",
       "      <td>Sonstiger schwerer Diebstahl von Fahrrädern</td>\n",
       "      <td>2023-05-02 20:00:00</td>\n",
       "      <td>2023-05-03 06:00:00</td>\n",
       "    </tr>\n",
       "    <tr>\n",
       "      <th>3</th>\n",
       "      <td>2023-05-03</td>\n",
       "      <td>06400737</td>\n",
       "      <td>699</td>\n",
       "      <td>Nein</td>\n",
       "      <td>Damenfahrrad</td>\n",
       "      <td>Fahrraddiebstahl</td>\n",
       "      <td>Sonstiger schwerer Diebstahl von Fahrrädern</td>\n",
       "      <td>2023-05-02 08:00:00</td>\n",
       "      <td>2023-05-02 13:00:00</td>\n",
       "    </tr>\n",
       "    <tr>\n",
       "      <th>4</th>\n",
       "      <td>2023-05-03</td>\n",
       "      <td>04400835</td>\n",
       "      <td>3350</td>\n",
       "      <td>Nein</td>\n",
       "      <td>Fahrrad</td>\n",
       "      <td>Fahrraddiebstahl</td>\n",
       "      <td>Sonstiger schwerer Diebstahl von Fahrrädern</td>\n",
       "      <td>2023-04-30 18:00:00</td>\n",
       "      <td>2023-05-02 19:00:00</td>\n",
       "    </tr>\n",
       "    <tr>\n",
       "      <th>...</th>\n",
       "      <td>...</td>\n",
       "      <td>...</td>\n",
       "      <td>...</td>\n",
       "      <td>...</td>\n",
       "      <td>...</td>\n",
       "      <td>...</td>\n",
       "      <td>...</td>\n",
       "      <td>...</td>\n",
       "      <td>...</td>\n",
       "    </tr>\n",
       "    <tr>\n",
       "      <th>28414</th>\n",
       "      <td>2022-01-02</td>\n",
       "      <td>07200413</td>\n",
       "      <td>660</td>\n",
       "      <td>Nein</td>\n",
       "      <td>Damenfahrrad</td>\n",
       "      <td>Fahrraddiebstahl</td>\n",
       "      <td>Sonstiger schwerer Diebstahl von Fahrrädern</td>\n",
       "      <td>2022-01-02 08:00:00</td>\n",
       "      <td>2022-01-02 17:00:00</td>\n",
       "    </tr>\n",
       "    <tr>\n",
       "      <th>28415</th>\n",
       "      <td>2022-01-01</td>\n",
       "      <td>01300730</td>\n",
       "      <td>150</td>\n",
       "      <td>Nein</td>\n",
       "      <td>Herrenfahrrad</td>\n",
       "      <td>Fahrraddiebstahl</td>\n",
       "      <td>Sonstiger schwerer Diebstahl von Fahrrädern</td>\n",
       "      <td>2022-01-01 20:00:00</td>\n",
       "      <td>2022-01-01 20:00:00</td>\n",
       "    </tr>\n",
       "    <tr>\n",
       "      <th>28416</th>\n",
       "      <td>2022-01-01</td>\n",
       "      <td>02100106</td>\n",
       "      <td>190</td>\n",
       "      <td>Nein</td>\n",
       "      <td>Herrenfahrrad</td>\n",
       "      <td>Fahrraddiebstahl</td>\n",
       "      <td>Sonstiger schwerer Diebstahl von Fahrrädern</td>\n",
       "      <td>2022-01-01 04:00:00</td>\n",
       "      <td>2022-01-01 08:00:00</td>\n",
       "    </tr>\n",
       "    <tr>\n",
       "      <th>28417</th>\n",
       "      <td>2022-01-01</td>\n",
       "      <td>03601142</td>\n",
       "      <td>1000</td>\n",
       "      <td>Nein</td>\n",
       "      <td>Herrenfahrrad</td>\n",
       "      <td>Fahrraddiebstahl</td>\n",
       "      <td>Einfacher Diebstahl von Fahrrädern</td>\n",
       "      <td>2022-01-01 14:00:00</td>\n",
       "      <td>2022-01-01 14:00:00</td>\n",
       "    </tr>\n",
       "    <tr>\n",
       "      <th>28418</th>\n",
       "      <td>2022-01-01</td>\n",
       "      <td>02400623</td>\n",
       "      <td>1754</td>\n",
       "      <td>Nein</td>\n",
       "      <td>Herrenfahrrad</td>\n",
       "      <td>Fahrraddiebstahl</td>\n",
       "      <td>Sonstiger schwerer Diebstahl von Fahrrädern</td>\n",
       "      <td>2022-01-01 16:00:00</td>\n",
       "      <td>2022-01-01 19:00:00</td>\n",
       "    </tr>\n",
       "  </tbody>\n",
       "</table>\n",
       "<p>28419 rows × 9 columns</p>\n",
       "</div>"
      ],
      "text/plain": [
       "      ANGELEGT_AM       LOR  SCHADENSHOEHE VERSUCH ART_DES_FAHRRADS  \\\n",
       "0      2023-05-03  01300836            600    Nein          Fahrrad   \n",
       "1      2023-05-03  04501040           1750    Nein    Herrenfahrrad   \n",
       "2      2023-05-03  04400832            849    Nein    Herrenfahrrad   \n",
       "3      2023-05-03  06400737            699    Nein     Damenfahrrad   \n",
       "4      2023-05-03  04400835           3350    Nein          Fahrrad   \n",
       "...           ...       ...            ...     ...              ...   \n",
       "28414  2022-01-02  07200413            660    Nein     Damenfahrrad   \n",
       "28415  2022-01-01  01300730            150    Nein    Herrenfahrrad   \n",
       "28416  2022-01-01  02100106            190    Nein    Herrenfahrrad   \n",
       "28417  2022-01-01  03601142           1000    Nein    Herrenfahrrad   \n",
       "28418  2022-01-01  02400623           1754    Nein    Herrenfahrrad   \n",
       "\n",
       "                 DELIKT                              ERFASSUNGSGRUND  \\\n",
       "0      Fahrraddiebstahl  Sonstiger schwerer Diebstahl von Fahrrädern   \n",
       "1      Fahrraddiebstahl  Sonstiger schwerer Diebstahl von Fahrrädern   \n",
       "2      Fahrraddiebstahl  Sonstiger schwerer Diebstahl von Fahrrädern   \n",
       "3      Fahrraddiebstahl  Sonstiger schwerer Diebstahl von Fahrrädern   \n",
       "4      Fahrraddiebstahl  Sonstiger schwerer Diebstahl von Fahrrädern   \n",
       "...                 ...                                          ...   \n",
       "28414  Fahrraddiebstahl  Sonstiger schwerer Diebstahl von Fahrrädern   \n",
       "28415  Fahrraddiebstahl  Sonstiger schwerer Diebstahl von Fahrrädern   \n",
       "28416  Fahrraddiebstahl  Sonstiger schwerer Diebstahl von Fahrrädern   \n",
       "28417  Fahrraddiebstahl           Einfacher Diebstahl von Fahrrädern   \n",
       "28418  Fahrraddiebstahl  Sonstiger schwerer Diebstahl von Fahrrädern   \n",
       "\n",
       "           TATZEIT_ANFANG        TATZEIT_ENDE  \n",
       "0     2023-05-02 20:00:00 2023-05-02 20:00:00  \n",
       "1     2023-04-27 23:00:00 2023-04-28 09:00:00  \n",
       "2     2023-05-02 20:00:00 2023-05-03 06:00:00  \n",
       "3     2023-05-02 08:00:00 2023-05-02 13:00:00  \n",
       "4     2023-04-30 18:00:00 2023-05-02 19:00:00  \n",
       "...                   ...                 ...  \n",
       "28414 2022-01-02 08:00:00 2022-01-02 17:00:00  \n",
       "28415 2022-01-01 20:00:00 2022-01-01 20:00:00  \n",
       "28416 2022-01-01 04:00:00 2022-01-01 08:00:00  \n",
       "28417 2022-01-01 14:00:00 2022-01-01 14:00:00  \n",
       "28418 2022-01-01 16:00:00 2022-01-01 19:00:00  \n",
       "\n",
       "[28419 rows x 9 columns]"
      ]
     },
     "execution_count": 35,
     "metadata": {},
     "output_type": "execute_result"
    }
   ],
   "source": [
    "df['TATZEIT_ANFANG'] = pd.to_datetime(df['TATZEIT_ANFANG_DATUM'].astype(str) + ' ' + df['TATZEIT_ANFANG_STUNDE'].astype(str) + ':00:00', dayfirst=True)\n",
    "df['TATZEIT_ENDE'] = pd.to_datetime(df['TATZEIT_ENDE_DATUM'].astype(str) + ' ' + df['TATZEIT_ENDE_STUNDE'].astype(str) + ':00:00', dayfirst=True)\n",
    "df = df.drop(columns=['TATZEIT_ANFANG_DATUM', 'TATZEIT_ANFANG_STUNDE', 'TATZEIT_ENDE_DATUM', 'TATZEIT_ENDE_STUNDE'])\n",
    "df['ANGELEGT_AM'] = pd.to_datetime(df['ANGELEGT_AM'], dayfirst=True)\n",
    "df"
   ]
  },
  {
   "cell_type": "code",
   "execution_count": 37,
   "metadata": {},
   "outputs": [],
   "source": [
    "lor = lor.merge(ew, left_on='Planungsraum (Nummer)', right_on='PLR-ID')\n",
    "lor = lor.drop(columns= ['techn. Schlüssel (UUID)', 'Stand der Daten', 'ausländer', 'PLR-ID', 'weiblich'])\n",
    "lor[\"Fläche in qm\"] = lor[\"Fläche in qm\"].str.replace(\",\", \".\").astype(float)\n",
    "int_cols = ['Gesamt', 'unter6', '6-15', '15-18', '18-27', '27-45','45-55', '55-65', '65undmehr']\n",
    "lor[int_cols] = lor[int_cols].replace('–', -1).astype(int)"
   ]
  },
  {
   "cell_type": "code",
   "execution_count": 39,
   "metadata": {},
   "outputs": [],
   "source": [
    "# transform coordinate reference system\n",
    "transformer = Transformer.from_crs(25833, 4326)\n",
    "\n",
    "geojson['crs']['properties']['name'] = \"urn:ogc:def:crs:EPSG::4326\"\n",
    "\n",
    "for i in range(len(geojson['features'])):\n",
    "    for j, el in enumerate(geojson['features'][i]['geometry']['coordinates'][0][0]):\n",
    "        x, y = transformer.transform(*el)\n",
    "        geojson['features'][i]['geometry']['coordinates'][0][0][j][0] = y\n",
    "        geojson['features'][i]['geometry']['coordinates'][0][0][j][1] = x\n"
   ]
  },
  {
   "attachments": {},
   "cell_type": "markdown",
   "metadata": {},
   "source": [
    "# Data Analysis"
   ]
  },
  {
   "attachments": {},
   "cell_type": "markdown",
   "metadata": {},
   "source": [
    "### Where are the most bikes stolen?\n"
   ]
  },
  {
   "cell_type": "code",
   "execution_count": 40,
   "metadata": {},
   "outputs": [
    {
     "data": {
      "text/html": [
       "<div>\n",
       "<style scoped>\n",
       "    .dataframe tbody tr th:only-of-type {\n",
       "        vertical-align: middle;\n",
       "    }\n",
       "\n",
       "    .dataframe tbody tr th {\n",
       "        vertical-align: top;\n",
       "    }\n",
       "\n",
       "    .dataframe thead th {\n",
       "        text-align: right;\n",
       "    }\n",
       "</style>\n",
       "<table border=\"1\" class=\"dataframe\">\n",
       "  <thead>\n",
       "    <tr style=\"text-align: right;\">\n",
       "      <th></th>\n",
       "      <th>Planungsraum (Nummer)</th>\n",
       "      <th>Planungsraum (Name)</th>\n",
       "      <th>Bezirksregion (Nummer)</th>\n",
       "      <th>Bezirksregion (Name)</th>\n",
       "      <th>Prognoseraum (Nummer)</th>\n",
       "      <th>Prognoseraum (Name)</th>\n",
       "      <th>Bezirk</th>\n",
       "      <th>Fläche in qm</th>\n",
       "      <th>Gesamt</th>\n",
       "      <th>unter6</th>\n",
       "      <th>6-15</th>\n",
       "      <th>15-18</th>\n",
       "      <th>18-27</th>\n",
       "      <th>27-45</th>\n",
       "      <th>45-55</th>\n",
       "      <th>55-65</th>\n",
       "      <th>65undmehr</th>\n",
       "      <th>Diebstaehle</th>\n",
       "    </tr>\n",
       "  </thead>\n",
       "  <tbody>\n",
       "    <tr>\n",
       "      <th>381</th>\n",
       "      <td>09100101</td>\n",
       "      <td>Alt-Treptow</td>\n",
       "      <td>091001</td>\n",
       "      <td>Alt-Treptow</td>\n",
       "      <td>0910</td>\n",
       "      <td>Treptow-Köpenick 1</td>\n",
       "      <td>Treptow-Köpenick</td>\n",
       "      <td>2314193.10</td>\n",
       "      <td>13269</td>\n",
       "      <td>937</td>\n",
       "      <td>1198</td>\n",
       "      <td>318</td>\n",
       "      <td>943</td>\n",
       "      <td>5163</td>\n",
       "      <td>1970</td>\n",
       "      <td>1402</td>\n",
       "      <td>1338</td>\n",
       "      <td>291</td>\n",
       "    </tr>\n",
       "    <tr>\n",
       "      <th>67</th>\n",
       "      <td>02300419</td>\n",
       "      <td>Wrangelkiez</td>\n",
       "      <td>023004</td>\n",
       "      <td>Südliche Luisenstadt</td>\n",
       "      <td>0230</td>\n",
       "      <td>Kreuzberg Ost</td>\n",
       "      <td>Friedrichshain-Kreuzberg</td>\n",
       "      <td>526711.17</td>\n",
       "      <td>10675</td>\n",
       "      <td>520</td>\n",
       "      <td>692</td>\n",
       "      <td>207</td>\n",
       "      <td>1133</td>\n",
       "      <td>4295</td>\n",
       "      <td>1553</td>\n",
       "      <td>1292</td>\n",
       "      <td>983</td>\n",
       "      <td>276</td>\n",
       "    </tr>\n",
       "    <tr>\n",
       "      <th>9</th>\n",
       "      <td>01100310</td>\n",
       "      <td>Alexanderplatzviertel</td>\n",
       "      <td>011003</td>\n",
       "      <td>Alexanderplatz</td>\n",
       "      <td>0110</td>\n",
       "      <td>Zentrum</td>\n",
       "      <td>Mitte</td>\n",
       "      <td>1365179.02</td>\n",
       "      <td>10276</td>\n",
       "      <td>533</td>\n",
       "      <td>596</td>\n",
       "      <td>158</td>\n",
       "      <td>1151</td>\n",
       "      <td>4061</td>\n",
       "      <td>1272</td>\n",
       "      <td>1027</td>\n",
       "      <td>1478</td>\n",
       "      <td>220</td>\n",
       "    </tr>\n",
       "    <tr>\n",
       "      <th>47</th>\n",
       "      <td>01401048</td>\n",
       "      <td>Leopoldplatz</td>\n",
       "      <td>014010</td>\n",
       "      <td>Wedding Zentrum</td>\n",
       "      <td>0140</td>\n",
       "      <td>Wedding</td>\n",
       "      <td>Mitte</td>\n",
       "      <td>408312.08</td>\n",
       "      <td>9445</td>\n",
       "      <td>498</td>\n",
       "      <td>610</td>\n",
       "      <td>200</td>\n",
       "      <td>1531</td>\n",
       "      <td>3643</td>\n",
       "      <td>1071</td>\n",
       "      <td>988</td>\n",
       "      <td>904</td>\n",
       "      <td>202</td>\n",
       "    </tr>\n",
       "    <tr>\n",
       "      <th>35</th>\n",
       "      <td>01300836</td>\n",
       "      <td>Humboldthain Nordwest</td>\n",
       "      <td>013008</td>\n",
       "      <td>Brunnenstraße Nord</td>\n",
       "      <td>0130</td>\n",
       "      <td>Gesundbrunnen</td>\n",
       "      <td>Mitte</td>\n",
       "      <td>1441462.64</td>\n",
       "      <td>14964</td>\n",
       "      <td>939</td>\n",
       "      <td>1340</td>\n",
       "      <td>460</td>\n",
       "      <td>2243</td>\n",
       "      <td>5253</td>\n",
       "      <td>1783</td>\n",
       "      <td>1442</td>\n",
       "      <td>1504</td>\n",
       "      <td>201</td>\n",
       "    </tr>\n",
       "    <tr>\n",
       "      <th>83</th>\n",
       "      <td>02500835</td>\n",
       "      <td>Stralauer Kiez</td>\n",
       "      <td>025008</td>\n",
       "      <td>Frankfurter Allee Süd FK</td>\n",
       "      <td>0250</td>\n",
       "      <td>Friedrichshain Ost</td>\n",
       "      <td>Friedrichshain-Kreuzberg</td>\n",
       "      <td>1355179.84</td>\n",
       "      <td>8044</td>\n",
       "      <td>510</td>\n",
       "      <td>498</td>\n",
       "      <td>104</td>\n",
       "      <td>830</td>\n",
       "      <td>4140</td>\n",
       "      <td>869</td>\n",
       "      <td>553</td>\n",
       "      <td>540</td>\n",
       "      <td>201</td>\n",
       "    </tr>\n",
       "    <tr>\n",
       "      <th>127</th>\n",
       "      <td>03601243</td>\n",
       "      <td>Rodenbergstraße</td>\n",
       "      <td>036012</td>\n",
       "      <td>Prenzlauer Berg Nord</td>\n",
       "      <td>0360</td>\n",
       "      <td>Nördlicher Prenzlauer Berg</td>\n",
       "      <td>Pankow</td>\n",
       "      <td>329700.29</td>\n",
       "      <td>6983</td>\n",
       "      <td>390</td>\n",
       "      <td>479</td>\n",
       "      <td>91</td>\n",
       "      <td>650</td>\n",
       "      <td>2956</td>\n",
       "      <td>1078</td>\n",
       "      <td>666</td>\n",
       "      <td>673</td>\n",
       "      <td>190</td>\n",
       "    </tr>\n",
       "    <tr>\n",
       "      <th>58</th>\n",
       "      <td>02200210</td>\n",
       "      <td>Urbanstraße</td>\n",
       "      <td>022002</td>\n",
       "      <td>Tempelhofer Vorstadt</td>\n",
       "      <td>0220</td>\n",
       "      <td>Kreuzberg Süd</td>\n",
       "      <td>Friedrichshain-Kreuzberg</td>\n",
       "      <td>916813.08</td>\n",
       "      <td>12233</td>\n",
       "      <td>686</td>\n",
       "      <td>834</td>\n",
       "      <td>249</td>\n",
       "      <td>1182</td>\n",
       "      <td>4560</td>\n",
       "      <td>1679</td>\n",
       "      <td>1679</td>\n",
       "      <td>1364</td>\n",
       "      <td>190</td>\n",
       "    </tr>\n",
       "    <tr>\n",
       "      <th>59</th>\n",
       "      <td>02200211</td>\n",
       "      <td>Chamissokiez</td>\n",
       "      <td>022002</td>\n",
       "      <td>Tempelhofer Vorstadt</td>\n",
       "      <td>0220</td>\n",
       "      <td>Kreuzberg Süd</td>\n",
       "      <td>Friedrichshain-Kreuzberg</td>\n",
       "      <td>977115.40</td>\n",
       "      <td>14703</td>\n",
       "      <td>786</td>\n",
       "      <td>902</td>\n",
       "      <td>334</td>\n",
       "      <td>1507</td>\n",
       "      <td>4908</td>\n",
       "      <td>2117</td>\n",
       "      <td>2340</td>\n",
       "      <td>1809</td>\n",
       "      <td>188</td>\n",
       "    </tr>\n",
       "    <tr>\n",
       "      <th>61</th>\n",
       "      <td>02200213</td>\n",
       "      <td>Graefekiez Nord</td>\n",
       "      <td>022002</td>\n",
       "      <td>Tempelhofer Vorstadt</td>\n",
       "      <td>0220</td>\n",
       "      <td>Kreuzberg Süd</td>\n",
       "      <td>Friedrichshain-Kreuzberg</td>\n",
       "      <td>592508.02</td>\n",
       "      <td>10172</td>\n",
       "      <td>551</td>\n",
       "      <td>723</td>\n",
       "      <td>203</td>\n",
       "      <td>918</td>\n",
       "      <td>3877</td>\n",
       "      <td>1414</td>\n",
       "      <td>1325</td>\n",
       "      <td>1161</td>\n",
       "      <td>186</td>\n",
       "    </tr>\n",
       "  </tbody>\n",
       "</table>\n",
       "</div>"
      ],
      "text/plain": [
       "    Planungsraum (Nummer)    Planungsraum (Name) Bezirksregion (Nummer)  \\\n",
       "381              09100101            Alt-Treptow                 091001   \n",
       "67               02300419            Wrangelkiez                 023004   \n",
       "9                01100310  Alexanderplatzviertel                 011003   \n",
       "47               01401048           Leopoldplatz                 014010   \n",
       "35               01300836  Humboldthain Nordwest                 013008   \n",
       "83               02500835         Stralauer Kiez                 025008   \n",
       "127              03601243        Rodenbergstraße                 036012   \n",
       "58               02200210            Urbanstraße                 022002   \n",
       "59               02200211           Chamissokiez                 022002   \n",
       "61               02200213        Graefekiez Nord                 022002   \n",
       "\n",
       "         Bezirksregion (Name) Prognoseraum (Nummer)  \\\n",
       "381               Alt-Treptow                  0910   \n",
       "67       Südliche Luisenstadt                  0230   \n",
       "9              Alexanderplatz                  0110   \n",
       "47            Wedding Zentrum                  0140   \n",
       "35         Brunnenstraße Nord                  0130   \n",
       "83   Frankfurter Allee Süd FK                  0250   \n",
       "127      Prenzlauer Berg Nord                  0360   \n",
       "58       Tempelhofer Vorstadt                  0220   \n",
       "59       Tempelhofer Vorstadt                  0220   \n",
       "61       Tempelhofer Vorstadt                  0220   \n",
       "\n",
       "            Prognoseraum (Name)                    Bezirk  Fläche in qm  \\\n",
       "381          Treptow-Köpenick 1          Treptow-Köpenick    2314193.10   \n",
       "67                Kreuzberg Ost  Friedrichshain-Kreuzberg     526711.17   \n",
       "9                       Zentrum                     Mitte    1365179.02   \n",
       "47                      Wedding                     Mitte     408312.08   \n",
       "35                Gesundbrunnen                     Mitte    1441462.64   \n",
       "83           Friedrichshain Ost  Friedrichshain-Kreuzberg    1355179.84   \n",
       "127  Nördlicher Prenzlauer Berg                    Pankow     329700.29   \n",
       "58                Kreuzberg Süd  Friedrichshain-Kreuzberg     916813.08   \n",
       "59                Kreuzberg Süd  Friedrichshain-Kreuzberg     977115.40   \n",
       "61                Kreuzberg Süd  Friedrichshain-Kreuzberg     592508.02   \n",
       "\n",
       "     Gesamt  unter6  6-15  15-18  18-27  27-45  45-55  55-65  65undmehr  \\\n",
       "381   13269     937  1198    318    943   5163   1970   1402       1338   \n",
       "67    10675     520   692    207   1133   4295   1553   1292        983   \n",
       "9     10276     533   596    158   1151   4061   1272   1027       1478   \n",
       "47     9445     498   610    200   1531   3643   1071    988        904   \n",
       "35    14964     939  1340    460   2243   5253   1783   1442       1504   \n",
       "83     8044     510   498    104    830   4140    869    553        540   \n",
       "127    6983     390   479     91    650   2956   1078    666        673   \n",
       "58    12233     686   834    249   1182   4560   1679   1679       1364   \n",
       "59    14703     786   902    334   1507   4908   2117   2340       1809   \n",
       "61    10172     551   723    203    918   3877   1414   1325       1161   \n",
       "\n",
       "     Diebstaehle  \n",
       "381          291  \n",
       "67           276  \n",
       "9            220  \n",
       "47           202  \n",
       "35           201  \n",
       "83           201  \n",
       "127          190  \n",
       "58           190  \n",
       "59           188  \n",
       "61           186  "
      ]
     },
     "execution_count": 40,
     "metadata": {},
     "output_type": "execute_result"
    }
   ],
   "source": [
    "# aggregate thefts per Planungsraum\n",
    "temp = df.groupby(by=\"LOR\").size().to_frame().rename(columns={0: \"Diebstaehle\"})\n",
    "lor = lor.merge(temp, left_on=\"Planungsraum (Nummer)\", right_index=True, how=\"left\")\n",
    "lor['Diebstaehle'] = lor['Diebstaehle'].fillna(0).astype(int)\n",
    "lor.sort_values(by='Diebstaehle', ascending=False).head(10)"
   ]
  },
  {
   "cell_type": "code",
   "execution_count": null,
   "metadata": {},
   "outputs": [],
   "source": [
    "bins = [0, *[np.quantile(lor.Diebstaehle, x) for x in [0.2, 0.4, 0.6, 0.8, 0.95]], np.max(lor.Diebstaehle)+1]\n",
    "lor['cat'] = pd.cut(lor.Diebstaehle, bins, right=False)\n",
    "colors = ['#fee5d9','#fcbba1','#fc9272','#fb6a4a','#de2d26','#a50f15']\n",
    "\n",
    "fig = px.choropleth(\n",
    "    lor.sort_values(by='Diebstaehle'),\n",
    "    geojson=geojson,\n",
    "    color=\"cat\",\n",
    "    color_discrete_sequence=colors,\n",
    "    locations=\"Planungsraum (Nummer)\",\n",
    "    featureidkey=\"properties.PLR_ID\",\n",
    "    projection=\"mercator\",\n",
    "    hover_data={\"Planungsraum (Name)\":True, \"Diebstaehle\":True, \"Planungsraum (Nummer)\":False},\n",
    "    width=800,\n",
    "    height=600\n",
    ")\n",
    "fig.update_geos(fitbounds=\"locations\", visible=False)\n",
    "fig.update_layout(margin={\"r\": 0, \"t\": 0, \"l\": 0, \"b\": 0})\n",
    "fig.show()\n"
   ]
  },
  {
   "attachments": {},
   "cell_type": "markdown",
   "metadata": {},
   "source": [
    "### Total damage amount?"
   ]
  },
  {
   "cell_type": "code",
   "execution_count": 42,
   "metadata": {},
   "outputs": [
    {
     "data": {
      "text/plain": [
       "<Axes: xlabel='SCHADENSHOEHE', ylabel='Count'>"
      ]
     },
     "execution_count": 42,
     "metadata": {},
     "output_type": "execute_result"
    },
    {
     "data": {
      "image/png": "[encoded data removed]",
      "text/plain": [
       "<Figure size 640x480 with 1 Axes>"
      ]
     },
     "metadata": {},
     "output_type": "display_data"
    }
   ],
   "source": [
    "sns.histplot(df['SCHADENSHOEHE'], kde=True)"
   ]
  },
  {
   "cell_type": "code",
   "execution_count": 43,
   "metadata": {},
   "outputs": [
    {
     "data": {
      "text/plain": [
       "30374807"
      ]
     },
     "execution_count": 43,
     "metadata": {},
     "output_type": "execute_result"
    }
   ],
   "source": [
    "df['SCHADENSHOEHE'].sum()"
   ]
  },
  {
   "attachments": {},
   "cell_type": "markdown",
   "metadata": {},
   "source": [
    "### What time of the year? / Seasonal trends?"
   ]
  },
  {
   "cell_type": "code",
   "execution_count": 44,
   "metadata": {},
   "outputs": [],
   "source": [
    "df_22 = df[df['TATZEIT_ENDE'].dt.year == 2022]"
   ]
  },
  {
   "cell_type": "code",
   "execution_count": 45,
   "metadata": {},
   "outputs": [
    {
     "data": {
      "text/plain": [
       "<Axes: xlabel='week'>"
      ]
     },
     "execution_count": 45,
     "metadata": {},
     "output_type": "execute_result"
    },
    {
     "data": {
      "image/png": "[encoded data removed]",
      "text/plain": [
       "<Figure size 640x480 with 1 Axes>"
      ]
     },
     "metadata": {},
     "output_type": "display_data"
    }
   ],
   "source": [
    "count_per_kw = (\n",
    "    df.groupby(by=df_22[\"TATZEIT_ANFANG\"].dt.isocalendar().week)\n",
    "    .size()\n",
    "    .to_frame()\n",
    "    .rename(columns={0: \"Diebstaehle\"})\n",
    ")\n",
    "\n",
    "count_per_kw.index = count_per_kw.index.astype(int)\n",
    "sns.lineplot(count_per_kw)\n"
   ]
  },
  {
   "attachments": {},
   "cell_type": "markdown",
   "metadata": {},
   "source": [
    "### What daytime?"
   ]
  },
  {
   "cell_type": "code",
   "execution_count": 46,
   "metadata": {},
   "outputs": [
    {
     "data": {
      "text/plain": [
       "Text(0.5, 0, 'TATZEIT_ENDE - TATZEIT_ANFANG in Stunden')"
      ]
     },
     "execution_count": 46,
     "metadata": {},
     "output_type": "execute_result"
    },
    {
     "data": {
      "image/png": "[encoded data removed]",
      "text/plain": [
       "<Figure size 640x480 with 1 Axes>"
      ]
     },
     "metadata": {},
     "output_type": "display_data"
    }
   ],
   "source": [
    "g = sns.histplot((df[\"TATZEIT_ENDE\"] - df[\"TATZEIT_ANFANG\"]) / pd.Timedelta(\"1 hour\"))\n",
    "g.set_xlabel(\"TATZEIT_ENDE - TATZEIT_ANFANG in Stunden\")\n"
   ]
  },
  {
   "cell_type": "code",
   "execution_count": 47,
   "metadata": {},
   "outputs": [
    {
     "data": {
      "text/plain": [
       "<Axes: xlabel='TATZEIT_ANFANG'>"
      ]
     },
     "execution_count": 47,
     "metadata": {},
     "output_type": "execute_result"
    },
    {
     "data": {
      "image/png": "[encoded data removed]",
      "text/plain": [
       "<Figure size 640x480 with 1 Axes>"
      ]
     },
     "metadata": {},
     "output_type": "display_data"
    }
   ],
   "source": [
    "count_per_hour = (\n",
    "    df.groupby(by=df_22[\"TATZEIT_ANFANG\"].dt.hour)\n",
    "    .size()\n",
    "    .to_frame()\n",
    "    .rename(columns={0: \"Diebstaehle\"})\n",
    ")\n",
    "\n",
    "count_per_hour.index = count_per_hour.index.astype(int)\n",
    "sns.lineplot(count_per_hour)\n"
   ]
  },
  {
   "cell_type": "code",
   "execution_count": 48,
   "metadata": {},
   "outputs": [
    {
     "data": {
      "text/plain": [
       "<Axes: xlabel='TATZEIT_ENDE'>"
      ]
     },
     "execution_count": 48,
     "metadata": {},
     "output_type": "execute_result"
    },
    {
     "data": {
      "image/png": "[encoded data removed]",
      "text/plain": [
       "<Figure size 640x480 with 1 Axes>"
      ]
     },
     "metadata": {},
     "output_type": "display_data"
    }
   ],
   "source": [
    "count_per_hour = (\n",
    "    df.groupby(by=df_22[\"TATZEIT_ENDE\"].dt.hour)\n",
    "    .size()\n",
    "    .to_frame()\n",
    "    .rename(columns={0: \"Diebstaehle\"})\n",
    ")\n",
    "\n",
    "count_per_hour.index = count_per_hour.index.astype(int)\n",
    "sns.lineplot(count_per_hour)\n"
   ]
  }
 ],
 "metadata": {
  "kernelspec": {
   "display_name": "tf-2.10",
   "language": "python",
   "name": "python3"
  },
  "language_info": {
   "codemirror_mode": {
    "name": "ipython",
    "version": 3
   },
   "file_extension": ".py",
   "mimetype": "text/x-python",
   "name": "python",
   "nbconvert_exporter": "python",
   "pygments_lexer": "ipython3",
   "version": "3.9.16"
  },
  "orig_nbformat": 4
 },
 "nbformat": 4,
 "nbformat_minor": 2
}
